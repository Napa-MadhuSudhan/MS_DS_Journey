{
 "cells": [
  {
   "cell_type": "markdown",
   "id": "29ea045a",
   "metadata": {},
   "source": [
    "# Numpy"
   ]
  },
  {
   "cell_type": "markdown",
   "id": "9bb502c8",
   "metadata": {},
   "source": [
    "NumPy (Numerical Python) is a powerful library in Python used for numerical and mathematical computations. It provides support for large, multi-dimensional arrays and matrices, along with an extensive collection of high-level mathematical functions to operate on these arrays efficiently. NumPy is a fundamental package for scientific computing with Python and is widely used in various fields such as data analysis, machine learning, statistics, physics, engineering, and more.\n",
    "\n",
    "Key features and functionalities of NumPy include:\n",
    "\n",
    "1. **Multi-dimensional Arrays:** NumPy's primary data structure is the `ndarray`, which is an N-dimensional array. It allows you to create arrays of different shapes and sizes, ranging from simple 1D arrays to complex multi-dimensional arrays.\n",
    "\n",
    "2. **Mathematical Functions:** NumPy provides a wide range of mathematical functions that can be applied to arrays, enabling element-wise operations and broadcasting. These functions include basic arithmetic operations, trigonometric functions, logarithms, exponents, and more.\n",
    "\n",
    "3. **Array Manipulation:** NumPy offers functions to reshape, transpose, concatenate, and split arrays. You can also extract specific elements or slices from arrays using array indexing and slicing techniques.\n",
    "\n",
    "4. **Broadcasting:** NumPy allows arrays with different shapes to be operated together. When performing operations between arrays of different shapes, NumPy automatically broadcasts the smaller array to match the shape of the larger one, making element-wise operations convenient.\n",
    "\n",
    "5. **Linear Algebra:** NumPy provides essential linear algebra operations, such as matrix multiplication, matrix inversion, eigenvalue decomposition, and more.\n",
    "\n",
    "6. **Random Number Generation:** NumPy has a robust random number generator that can produce random samples from various probability distributions, which is particularly useful in simulations and statistical analysis.\n",
    "\n",
    "7. **Integration with Other Libraries:** NumPy is a fundamental building block for many other Python libraries used in scientific computing, data analysis, and machine learning, such as SciPy, pandas, and scikit-learn.\n",
    "\n",
    "Use cases of NumPy:\n",
    "\n",
    "1. **Data Analysis and Manipulation:** NumPy's array operations and broadcasting capabilities are widely used in data analysis and manipulation tasks. It allows efficient handling and processing of large datasets.\n",
    "\n",
    "2. **Scientific and Engineering Computations:** NumPy's support for multi-dimensional arrays and mathematical functions makes it a go-to library for scientific and engineering computations, including simulations, signal processing, and image processing.\n",
    "\n",
    "3. **Machine Learning:** NumPy is heavily used in machine learning algorithms for data preprocessing, feature extraction, and model training due to its efficient array operations and mathematical functions.\n",
    "\n",
    "4. **Statistical Analysis:** NumPy is instrumental in statistical computations and hypothesis testing, enabling researchers to work with large datasets efficiently.\n",
    "\n",
    "5. **Visualization:** NumPy arrays can be easily integrated with visualization libraries like Matplotlib for plotting and graphing data.\n",
    "\n",
    "In summary, NumPy is a crucial library for numerical computing in Python, providing efficient array operations and mathematical functions, making it a versatile tool for a wide range of applications in scientific, engineering, and data-related domains."
   ]
  },
  {
   "cell_type": "markdown",
   "id": "0d227235",
   "metadata": {},
   "source": [
    "## Multi-dimensional Arrays"
   ]
  },
  {
   "cell_type": "markdown",
   "id": "c331b504",
   "metadata": {},
   "source": [
    "NumPy provides a wide range of functions related to multi-dimensional arrays. Here are some of the essential functions along with examples:\n",
    "\n",
    "1. **Creating Arrays:**\n",
    "\n",
    "- `numpy.array`: Create an array from a Python list or tuple.\n",
    "\n",
    "```python\n",
    "\n",
    "import numpy as np\n",
    "\n",
    "arr = np.array([1, 2, 3, 4, 5])\n",
    "print(arr)  # Output: [1 2 3 4 5]\n",
    "```\n",
    "\n",
    "- `numpy.zeros`: Create an array of zeros with a specified shape.\n",
    "\n",
    "```python\n",
    "\n",
    "zeros_arr = np.zeros((2, 3))\n",
    "print(zeros_arr)\n",
    "# Output:\n",
    "# [[0. 0. 0.]\n",
    "#  [0. 0. 0.]]\n",
    "```\n",
    "\n",
    "- `numpy.ones`: Create an array of ones with a specified shape.\n",
    "\n",
    "```python\n",
    "\n",
    "ones_arr = np.ones((3, 2))\n",
    "print(ones_arr)\n",
    "# Output:\n",
    "# [[1. 1.]\n",
    "#  [1. 1.]\n",
    "#  [1. 1.]]\n",
    "```\n",
    "\n",
    "- `numpy.arange`: Create an array with evenly spaced values within a given interval.\n",
    "\n",
    "```python\n",
    "\n",
    "range_arr = np.arange(1, 6)\n",
    "print(range_arr)  # Output: [1 2 3 4 5]\n",
    "```\n",
    "\n",
    "2. **Array Indexing and Slicing:**\n",
    "\n",
    "- Accessing elements in a 1D array:\n",
    "\n",
    "```python\n",
    "\n",
    "arr = np.array([1, 2, 3, 4, 5])\n",
    "print(arr[2])      # Output: 3\n",
    "print(arr[1:4])    # Output: [2 3 4]\n",
    "```\n",
    "\n",
    "- Accessing elements in a 2D array:\n",
    "\n",
    "```python\n",
    "\n",
    "arr_2d = np.array([[1, 2, 3], [4, 5, 6], [7, 8, 9]])\n",
    "print(arr_2d[1, 2])      # Output: 6\n",
    "print(arr_2d[:, 1])      # Output: [2 5 8]\n",
    "```\n",
    "\n",
    "3. **Array Operations:**\n",
    "\n",
    "- Element-wise addition, subtraction, multiplication, and division:\n",
    "\n",
    "```python\n",
    "\n",
    "arr1 = np.array([1, 2, 3])\n",
    "arr2 = np.array([4, 5, 6])\n",
    "\n",
    "add_result = arr1 + arr2    # [5 7 9]\n",
    "sub_result = arr1 - arr2    # [-3 -3 -3]\n",
    "mul_result = arr1 * arr2    # [4 10 18]\n",
    "div_result = arr1 / arr2    # [0.25 0.4  0.5]\n",
    "```\n",
    "\n",
    "- Dot product of two arrays (Matrix multiplication):\n",
    "\n",
    "```python\n",
    "\n",
    "matrix1 = np.array([[1, 2], [3, 4]])\n",
    "matrix2 = np.array([[5, 6], [7, 8]])\n",
    "\n",
    "dot_product = np.dot(matrix1, matrix2)\n",
    "print(dot_product)\n",
    "# Output:\n",
    "# [[19 22]\n",
    "#  [43 50]]\n",
    "```\n",
    "\n",
    "4. **Array Shape Manipulation:**\n",
    "\n",
    "- `numpy.reshape`: Reshape an array to a specified shape.\n",
    "\n",
    "```python\n",
    "\n",
    "arr = np.arange(1, 10)\n",
    "reshaped_arr = arr.reshape(3, 3)\n",
    "print(reshaped_arr)\n",
    "# Output:\n",
    "# [[1 2 3]\n",
    "#  [4 5 6]\n",
    "#  [7 8 9]]\n",
    "```\n",
    "\n",
    "- `numpy.transpose`: Transpose an array (swap rows and columns).\n",
    "\n",
    "```python\n",
    "\n",
    "arr = np.array([[1, 2, 3], [4, 5, 6]])\n",
    "transposed_arr = arr.T\n",
    "print(transposed_arr)\n",
    "# Output:\n",
    "# [[1 4]\n",
    "#  [2 5]\n",
    "#  [3 6]]\n",
    "```\n",
    "\n",
    "5. **Array Concatenation:**\n",
    "\n",
    "- `numpy.concatenate`: Concatenate two or more arrays along a specified axis.\n",
    "\n",
    "```python\n",
    "\n",
    "arr1 = np.array([1, 2, 3])\n",
    "arr2 = np.array([4, 5, 6])\n",
    "concatenated_arr = np.concatenate((arr1, arr2))\n",
    "print(concatenated_arr)  # Output: [1 2 3 4 5 6]\n",
    "```\n",
    "\n",
    "These are just a few of the many functions available in NumPy for multi-dimensional arrays. NumPy offers a vast array of functionalities to manipulate, reshape, and perform operations on multi-dimensional arrays efficiently."
   ]
  },
  {
   "cell_type": "markdown",
   "id": "8b14f8d8",
   "metadata": {},
   "source": [
    "Here is a comprehensive list of some of the essential functions related to multi-dimensional arrays in NumPy. Keep in mind that NumPy is actively developed, and new functions may have been added since my last update. For the latest and most up-to-date information, please refer to the official NumPy documentation.\n",
    "\n",
    "1. **Creating Arrays:**\n",
    "\n",
    "- `numpy.array`: Create an array from a Python list or tuple.\n",
    "- `numpy.zeros`: Create an array of zeros with a specified shape.\n",
    "- `numpy.ones`: Create an array of ones with a specified shape.\n",
    "- `numpy.empty`: Create an array without initializing its elements.\n",
    "- `numpy.full`: Create an array with a specified value filled in.\n",
    "- `numpy.eye`: Create a 2D identity matrix.\n",
    "- `numpy.arange`: Create an array with evenly spaced values within a given interval.\n",
    "- `numpy.linspace`: Create an array with a specified number of evenly spaced values within a given interval.\n",
    "- `numpy.meshgrid`: Generate coordinate matrices from coordinate vectors.\n",
    "\n",
    "2. **Array Indexing and Slicing:**\n",
    "\n",
    "- Basic indexing: Accessing elements in an array using integer indices.\n",
    "- Slicing: Extracting specific sections of an array using slices.\n",
    "- Fancy indexing: Accessing elements in an array using arrays of indices or boolean masks.\n",
    "\n",
    "3. **Array Operations:**\n",
    "\n",
    "- Element-wise arithmetic operations: Addition, subtraction, multiplication, division, etc.\n",
    "- Element-wise mathematical functions: `numpy.sin`, `numpy.cos`, `numpy.exp`, `numpy.sqrt`, etc.\n",
    "- `numpy.dot`: Dot product of two arrays (Matrix multiplication).\n",
    "- `numpy.matmul`: Matrix multiplication, handling 2D arrays as matrices.\n",
    "- `numpy.tensordot`: Compute tensor dot product along specified axes.\n",
    "\n",
    "4. **Array Shape Manipulation:**\n",
    "\n",
    "- `numpy.reshape`: Reshape an array to a specified shape.\n",
    "- `numpy.resize`: Return a new array with a specified size.\n",
    "- `numpy.transpose`: Transpose an array (swap rows and columns).\n",
    "- `numpy.swapaxes`: Swap the two specified axes of an array.\n",
    "- `numpy.flatten`: Flatten an array to a 1D array.\n",
    "- `numpy.ravel`: Return a flattened 1D array (same as flatten, but may return a view instead of a copy).\n",
    "- `numpy.squeeze`: Remove single-dimensional entries from the shape of an array.\n",
    "\n",
    "5. **Array Splitting and Joining:**\n",
    "\n",
    "- `numpy.split`: Split an array into multiple sub-arrays along a specified axis.\n",
    "- `numpy.hsplit`: Split an array horizontally (along columns).\n",
    "- `numpy.vsplit`: Split an array vertically (along rows).\n",
    "- `numpy.concatenate`: Concatenate two or more arrays along a specified axis.\n",
    "- `numpy.hstack`: Stack arrays in sequence horizontally (along columns).\n",
    "- `numpy.vstack`: Stack arrays in sequence vertically (along rows).\n",
    "\n",
    "6. **Array Iteration:**\n",
    "\n",
    "- `numpy.nditer`: Efficient multi-dimensional array iteration.\n",
    "\n",
    "7. **Statistical Functions:**\n",
    "\n",
    "- `numpy.mean`: Compute the mean along a specified axis.\n",
    "- `numpy.median`: Compute the median along a specified axis.\n",
    "- `numpy.sum`: Compute the sum of array elements along a specified axis.\n",
    "- `numpy.min`: Find the minimum value along a specified axis.\n",
    "- `numpy.max`: Find the maximum value along a specified axis.\n",
    "- `numpy.std`: Compute the standard deviation along a specified axis.\n",
    "- `numpy.var`: Compute the variance along a specified axis.\n",
    "\n",
    "8. **Linear Algebra Functions:**\n",
    "\n",
    "- `numpy.linalg.inv`: Compute the (multiplicative) inverse of a matrix.\n",
    "- `numpy.linalg.det`: Compute the determinant of a matrix.\n",
    "- `numpy.linalg.eig`: Compute the eigenvalues and right eigenvectors of a square array.\n",
    "- `numpy.linalg.solve`: Solve a linear matrix equation.\n",
    "\n",
    "9. **Random Number Generation:**\n",
    "\n",
    "- `numpy.random.rand`: Generate random numbers from a uniform distribution.\n",
    "- `numpy.random.randn`: Generate random numbers from a standard normal distribution.\n",
    "- `numpy.random.randint`: Generate random integers within a specified range.\n",
    "- `numpy.random.random_sample`: Generate random floats in the half-open interval [0.0, 1.0).\n",
    "\n",
    "These are some of the most commonly used functions related to multi-dimensional arrays in NumPy. NumPy is a powerful library with a vast collection of functions, and this list is by no means exhaustive. For a complete and detailed reference, please refer to the official NumPy documentation: https://numpy.org/doc/stable/."
   ]
  },
  {
   "cell_type": "markdown",
   "id": "52576cd5",
   "metadata": {},
   "source": [
    "## Creating Arrays"
   ]
  },
  {
   "cell_type": "markdown",
   "id": "207279d5",
   "metadata": {},
   "source": [
    "Sure! Here are examples for each of the functions related to creating arrays in NumPy:\n",
    "\n",
    "1. **numpy.array: Create an array from a Python list or tuple.**\n",
    "\n",
    "```python\n",
    "\n",
    "import numpy as np\n",
    "\n",
    "# Creating an array from a Python list\n",
    "arr_list = np.array([1, 2, 3, 4, 5])\n",
    "print(arr_list)  # Output: [1 2 3 4 5]\n",
    "\n",
    "# Creating an array from a Python tuple\n",
    "arr_tuple = np.array((10, 20, 30, 40, 50))\n",
    "print(arr_tuple)  # Output: [10 20 30 40 50]\n",
    "```\n",
    "\n",
    "2. **numpy.zeros: Create an array of zeros with a specified shape.**\n",
    "\n",
    "```python\n",
    "\n",
    "zeros_arr = np.zeros((3, 4))\n",
    "print(zeros_arr)\n",
    "# Output:\n",
    "# [[0. 0. 0. 0.]\n",
    "#  [0. 0. 0. 0.]\n",
    "#  [0. 0. 0. 0.]]\n",
    "```\n",
    "\n",
    "3. **numpy.ones: Create an array of ones with a specified shape.**\n",
    "\n",
    "```python\n",
    "\n",
    "ones_arr = np.ones((2, 3))\n",
    "print(ones_arr)\n",
    "# Output:\n",
    "# [[1. 1. 1.]\n",
    "#  [1. 1. 1.]]\n",
    "```\n",
    "\n",
    "4. **numpy.empty: Create an array without initializing its elements.**\n",
    "\n",
    "```python\n",
    "\n",
    "empty_arr = np.empty((2, 2))\n",
    "print(empty_arr)\n",
    "# Output: The content of the array may vary, as it is not initialized.\n",
    "# Example output: \n",
    "# [[0. 0.]\n",
    "#  [0. 0.]]\n",
    "```\n",
    "\n",
    "5. **numpy.full: Create an array with a specified value filled in.**\n",
    "\n",
    "```python\n",
    "\n",
    "full_arr = np.full((3, 3), 7)\n",
    "print(full_arr)\n",
    "# Output:\n",
    "# [[7 7 7]\n",
    "#  [7 7 7]\n",
    "#  [7 7 7]]\n",
    "```\n",
    "\n",
    "6. **numpy.eye: Create a 2D identity matrix.**\n",
    "\n",
    "```python\n",
    "\n",
    "identity_matrix = np.eye(4)\n",
    "print(identity_matrix)\n",
    "# Output:\n",
    "# [[1. 0. 0. 0.]\n",
    "#  [0. 1. 0. 0.]\n",
    "#  [0. 0. 1. 0.]\n",
    "#  [0. 0. 0. 1.]]\n",
    "```\n",
    "\n",
    "7. **numpy.arange: Create an array with evenly spaced values within a given interval.**\n",
    "\n",
    "```python\n",
    "\n",
    "range_arr = np.arange(10, 20, 2)\n",
    "print(range_arr)  # Output: [10 12 14 16 18]\n",
    "```\n",
    "\n",
    "8. **numpy.linspace: Create an array with a specified number of evenly spaced values within a given interval.**\n",
    "\n",
    "```python\n",
    "\n",
    "lin_space = np.linspace(0, 1, 5)\n",
    "print(lin_space)  # Output: [0.   0.25 0.5  0.75 1.  ]\n",
    "```\n",
    "\n",
    "9. **numpy.meshgrid: Generate coordinate matrices from coordinate vectors.**\n",
    "\n",
    "```python\n",
    "\n",
    "x = np.array([1, 2, 3])\n",
    "y = np.array([4, 5, 6])\n",
    "\n",
    "X, Y = np.meshgrid(x, y)\n",
    "print(X)\n",
    "# Output:\n",
    "# [[1 2 3]\n",
    "#  [1 2 3]\n",
    "#  [1 2 3]]\n",
    "\n",
    "print(Y)\n",
    "# Output:\n",
    "# [[4 4 4]\n",
    "#  [5 5 5]\n",
    "#  [6 6 6]]\n",
    "```\n",
    "\n",
    "In the `meshgrid` example, the function generates coordinate matrices `X` and `Y` from the coordinate vectors `x` and `y`, respectively. It creates a grid of points for all combinations of `x` and `y` values, which is useful for plotting surfaces and evaluating functions on a grid."
   ]
  },
  {
   "cell_type": "markdown",
   "id": "3ef0fa2a",
   "metadata": {},
   "source": [
    "### Exercise"
   ]
  },
  {
   "cell_type": "markdown",
   "id": "df59c769",
   "metadata": {},
   "source": [
    "Sure! Let's create an exercise covering various questions related to creating NumPy arrays.\n",
    "\n",
    "Exercise: Creating NumPy Arrays\n",
    "\n",
    "1. **Create a 1D array**: Create a NumPy array with values [1, 2, 3, 4, 5].\n",
    "\n",
    "2. **Create a 2D array**: Create a 2D NumPy array with the following matrix:\n",
    "```\n",
    "[[1, 2, 3],\n",
    " [4, 5, 6],\n",
    " [7, 8, 9]]\n",
    "```\n",
    "\n",
    "3. **Create an array of zeros**: Create a NumPy array of zeros with a shape (3, 4).\n",
    "\n",
    "4. **Create an array of ones**: Create a NumPy array of ones with a shape (2, 3).\n",
    "\n",
    "5. **Create an empty array**: Create an empty NumPy array with a shape (2, 2). Print the array, and observe the initial values (which might not be zeros).\n",
    "\n",
    "6. **Create a full array**: Create a NumPy array of shape (3, 3) with all values initialized to 7.\n",
    "\n",
    "7. **Create an identity matrix**: Create a 3x3 identity matrix using NumPy.\n",
    "\n",
    "8. **Create an array using arange**: Create a NumPy array containing even numbers from 2 to 20.\n",
    "\n",
    "9. **Create an array using linspace**: Create a NumPy array with 5 evenly spaced values between 0 and 1 (inclusive).\n",
    "\n",
    "10. **Create a meshgrid**: Given two 1D arrays x and y:\n",
    "```\n",
    "x = np.array([1, 2, 3])\n",
    "y = np.array([4, 5, 6])\n",
    "```\n",
    "Use `numpy.meshgrid` to generate coordinate matrices X and Y.\n",
    "\n",
    "11. **Create a random array**: Create a 3x3 NumPy array filled with random numbers from a uniform distribution between 0 and 1.\n",
    "\n",
    "12. **Create a random integer array**: Create a 2x2 NumPy array filled with random integers between 1 and 10.\n",
    "\n",
    "13. **Create a custom function to initialize an array**: Write a Python function that takes a shape (rows, columns) as input and returns a NumPy array where each element is twice the sum of its row and column indices. For example, for a 3x4 array, the element at (1, 2) should be 2 * (1 + 2) = 6.\n",
    "\n",
    "14. **Manipulate array shape**: Given a 1D NumPy array `[1, 2, 3, 4, 5, 6]`, reshape it to a 2D array of shape (2, 3).\n",
    "\n",
    "15. **Split and concatenate arrays**: Given two 1D NumPy arrays `[1, 2, 3]` and `[4, 5, 6]`, concatenate them horizontally and vertically.\n",
    "\n",
    "16. **Create an array using broadcasting**: Create a NumPy array that adds a constant value of 5 to each element of the array `[1, 2, 3, 4, 5]`.\n",
    "\n",
    "17. **Create a random 3D array**: Create a 3D NumPy array with shape (2, 3, 4) filled with random numbers from a normal distribution with mean 0 and standard deviation 1.\n",
    "\n",
    "These exercises cover a range of scenarios where you'll be required to create NumPy arrays using different techniques and functions. Practice these exercises to solidify your understanding of array creation in NumPy."
   ]
  },
  {
   "cell_type": "code",
   "execution_count": 2,
   "id": "5ffb3f80",
   "metadata": {},
   "outputs": [],
   "source": [
    "# Create a 1D array: Create a NumPy array with values [1, 2, 3, 4, 5].\n",
    "import numpy as np"
   ]
  },
  {
   "cell_type": "code",
   "execution_count": 3,
   "id": "d444e60a",
   "metadata": {},
   "outputs": [
    {
     "data": {
      "text/plain": [
       "array([1, 2, 3, 4, 5])"
      ]
     },
     "execution_count": 3,
     "metadata": {},
     "output_type": "execute_result"
    }
   ],
   "source": [
    "np.array([1,2,3,4,5])"
   ]
  },
  {
   "cell_type": "code",
   "execution_count": 4,
   "id": "83fd11a6",
   "metadata": {},
   "outputs": [
    {
     "data": {
      "text/plain": [
       "array([[1, 2, 3],\n",
       "       [4, 5, 6],\n",
       "       [7, 8, 9]])"
      ]
     },
     "execution_count": 4,
     "metadata": {},
     "output_type": "execute_result"
    }
   ],
   "source": [
    "# Create a 2D array: Create a 2D NumPy array with the following matrix:\n",
    "\n",
    "[[1, 2, 3],\n",
    "[4, 5, 6],\n",
    "[7, 8, 9]]\n",
    "np.array([[1,2,3],[4,5,6],[7,8,9]])"
   ]
  },
  {
   "cell_type": "code",
   "execution_count": 5,
   "id": "4d7db920",
   "metadata": {},
   "outputs": [
    {
     "name": "stdout",
     "output_type": "stream",
     "text": [
      "[[0. 0. 0. 0.]\n",
      " [0. 0. 0. 0.]\n",
      " [0. 0. 0. 0.]]\n",
      "\n",
      " [[1. 1. 1. 1.]\n",
      " [1. 1. 1. 1.]\n",
      " [1. 1. 1. 1.]]\n"
     ]
    }
   ],
   "source": [
    "# Create an array of zeros: Create a NumPy array of zeros with a shape (3, 4).\n",
    "print(np.zeros((3,4)))\n",
    "# Create an array of ones: Create a NumPy array of ones with a shape (2, 3).\n",
    "print('\\n',np.ones((3,4)))"
   ]
  },
  {
   "cell_type": "code",
   "execution_count": 6,
   "id": "18ae1bd7",
   "metadata": {},
   "outputs": [
    {
     "name": "stdout",
     "output_type": "stream",
     "text": [
      "[[0. 0.]\n",
      " [0. 0.]]\n",
      "\n",
      "[[7 7 7]\n",
      " [7 7 7]\n",
      " [7 7 7]]\n",
      "\n",
      "[[1. 0. 0.]\n",
      " [0. 1. 0.]\n",
      " [0. 0. 1.]]\n",
      "\n",
      "[ 2  4  6  8 10 12 14 16 18 20]\n",
      "\n",
      "[0.   0.25 0.5  0.75 1.  ]\n",
      "\n",
      "[[1 2 3]\n",
      " [1 2 3]\n",
      " [1 2 3]]\n",
      "\n",
      "[[4 4 4]\n",
      " [5 5 5]\n",
      " [6 6 6]]\n",
      "\n"
     ]
    }
   ],
   "source": [
    "# Create an empty array: Create an empty NumPy array with a shape (2, 2). Print the array, and observe the initial values (which might not be zeros).\n",
    "print(np.empty((2,2)), end ='\\n\\n')\n",
    "# Create a full array: Create a NumPy array of shape (3, 3) with all values initialized to 7.\n",
    "print(np.full((3,3),7), end ='\\n\\n')\n",
    "# Create an identity matrix: Create a 3x3 identity matrix using NumPy.\n",
    "print(np.eye(3), end ='\\n\\n')\n",
    "# Create an array using arange: Create a NumPy array containing even numbers from 2 to 20.\n",
    "print(np.arange(2,21,2), end ='\\n\\n')\n",
    "# Create an array using linspace: Create a NumPy array with 5 evenly spaced values between 0 and 1 (inclusive).\n",
    "print(np.linspace(0,1,5), end ='\\n\\n')\n",
    "# Create a meshgrid: Given two 1D arrays x and y:\n",
    "x = np.array([1, 2, 3])\n",
    "y = np.array([4, 5, 6])\n",
    "X,Y= np.meshgrid(x,y)\n",
    "print(X, end ='\\n\\n')\n",
    "print(Y, end ='\\n\\n')"
   ]
  },
  {
   "cell_type": "code",
   "execution_count": 8,
   "id": "b758efe3",
   "metadata": {},
   "outputs": [
    {
     "name": "stdout",
     "output_type": "stream",
     "text": [
      "[[0.77786904 0.2185969  0.19735923]\n",
      " [0.93720954 0.44545583 0.75838172]\n",
      " [0.56816626 0.81986997 0.6689524 ]]\n",
      "\n",
      "[[1 5]\n",
      " [2 1]]\n",
      "\n"
     ]
    }
   ],
   "source": [
    "# Create a random array: Create a 3x3 NumPy array filled with random numbers from a uniform distribution between 0 and 1.\n",
    "print(np.random.rand(3,3),end='\\n\\n')\n",
    "# Create a random integer array: Create a 2x2 NumPy array filled with random integers between 1 and 10.\n",
    "print(np.random.randint(1,10,(2,2)),end='\\n\\n')\n",
    "\n",
    "\n"
   ]
  },
  {
   "cell_type": "code",
   "execution_count": 9,
   "id": "7f0627ec",
   "metadata": {},
   "outputs": [
    {
     "name": "stdout",
     "output_type": "stream",
     "text": [
      "[[ 4.  6.  8. 10.]\n",
      " [ 6.  8. 10. 12.]\n",
      " [ 8. 10. 12. 14.]]\n"
     ]
    }
   ],
   "source": [
    "# Create a custom function to initialize an array: Write a Python function that takes a shape (rows, columns) as input and returns a NumPy array where each element is twice the sum of its row and column indices. For example, for a 3x4 array, the element at (1, 2) should be 2 * (1 + 2) = 6.\n",
    "def fun(row,col):\n",
    "    res = np.zeros((row,col))\n",
    "    for i in range(row):\n",
    "        for j in range(col):\n",
    "            res[i][j] = 2*(i+1+j+1)\n",
    "    return res\n",
    "print(fun(3,4))\n",
    "            "
   ]
  },
  {
   "cell_type": "code",
   "execution_count": 10,
   "id": "e5e8cde4",
   "metadata": {},
   "outputs": [
    {
     "data": {
      "text/plain": [
       "array([[1, 2, 3],\n",
       "       [4, 5, 6]])"
      ]
     },
     "execution_count": 10,
     "metadata": {},
     "output_type": "execute_result"
    }
   ],
   "source": [
    "# Manipulate array shape: Given a 1D NumPy array [1, 2, 3, 4, 5, 6], reshape it to a 2D array of shape (2, 3).\n",
    "arr = np.array([1,2,3,4,5,6])\n",
    "arr = arr.reshape((2,3))\n",
    "arr"
   ]
  },
  {
   "cell_type": "code",
   "execution_count": 11,
   "id": "b545e8b4",
   "metadata": {},
   "outputs": [
    {
     "name": "stdout",
     "output_type": "stream",
     "text": [
      "[array([4]), array([5]), array([6]), array([90])] \n",
      "\n",
      "[array([[1, 2, 3, 6]]), array([[6, 7, 3, 4]]), array([[ 8,  6,  5, 90]])] \n",
      "\n",
      "[[ 1  2  3  6]\n",
      " [ 6  7  3  4]\n",
      " [ 8  6  5 90]\n",
      " [ 4  5  6 90]] \n",
      "\n",
      "[1 2 3 4 5 6]\n"
     ]
    }
   ],
   "source": [
    "# Split and concatenate arrays: Given two 1D NumPy arrays [1, 2, 3] and [4, 5, 6], concatenate them horizontally and vertically.\n",
    "\n",
    "arr1 = np.array([[1,2,3,6],[6,7,3,4],[8,6,5,90]])\n",
    "arr2 = np.array([4,5,6,90])\n",
    "x = np.array([1,2,3])\n",
    "y = np.array([4,5,6])\n",
    "print(np.split(arr2,4),'\\n')\n",
    "print(np.vsplit(arr1,3),'\\n')\n",
    "print(np.vstack((arr1,arr2)),'\\n')\n",
    "print(np.hstack((x,y)))"
   ]
  },
  {
   "cell_type": "code",
   "execution_count": 12,
   "id": "0abca613",
   "metadata": {},
   "outputs": [
    {
     "data": {
      "text/plain": [
       "array([ 6,  7,  8,  9, 10])"
      ]
     },
     "execution_count": 12,
     "metadata": {},
     "output_type": "execute_result"
    }
   ],
   "source": [
    "# Create an array using broadcasting: Create a NumPy array that adds a constant value of 5 to each element of the array [1, 2, 3, 4, 5].\n",
    "np.array([1,2,3,4,5])+5"
   ]
  },
  {
   "cell_type": "code",
   "execution_count": 13,
   "id": "e7166331",
   "metadata": {},
   "outputs": [
    {
     "data": {
      "text/plain": [
       "array([[[ 0.1885662 ,  1.04485813, -0.55407911, -0.99088303],\n",
       "        [ 0.87889052, -0.5802316 , -0.82559506,  0.34705097],\n",
       "        [-1.74174254, -2.96054459, -1.07406092, -0.25515533]],\n",
       "\n",
       "       [[-0.52378059, -1.9040345 , -0.32307583, -0.14475769],\n",
       "        [-1.66977936, -0.32037339, -1.42118339,  0.39462212],\n",
       "        [-0.30205318, -0.43750811, -1.54267981, -0.7156507 ]]])"
      ]
     },
     "execution_count": 13,
     "metadata": {},
     "output_type": "execute_result"
    }
   ],
   "source": [
    "# Create a random 3D array: Create a 3D NumPy array with shape (2, 3, 4) filled with random numbers from a normal distribution with mean 0 and standard deviation 1.\n",
    "np.random.normal(0,1 , size =(2,3,4))"
   ]
  },
  {
   "cell_type": "markdown",
   "id": "84e43cce",
   "metadata": {},
   "source": [
    "## Exercise on array indexing and sclicing"
   ]
  },
  {
   "cell_type": "markdown",
   "id": "858650b5",
   "metadata": {},
   "source": [
    "Here's an exercise on Array Indexing and Slicing with 7 questions:\n",
    "\n",
    "1. Given the NumPy array `arr = np.array([10, 20, 30, 40, 50])`, extract and print the element at index 2.\n",
    "\n",
    "2. Given the NumPy array `arr = np.array([1, 2, 3, 4, 5, 6, 7, 8, 9, 10])`, use slicing to extract and print the subarray from index 2 to index 6 (inclusive).\n",
    "\n",
    "3. Given the 2D NumPy array `arr = np.array([[1, 2, 3], [4, 5, 6], [7, 8, 9]])`, print the element at row index 1 and column index 2.\n",
    "\n",
    "4. Given the 2D NumPy array `arr = np.array([[1, 2, 3], [4, 5, 6], [7, 8, 9]])`, use slicing to extract and print the subarray corresponding to the last two rows.\n",
    "\n",
    "5. Given the 2D NumPy array `arr = np.array([[1, 2, 3], [4, 5, 6], [7, 8, 9]])`, use slicing to extract and print the subarray corresponding to the first two columns.\n",
    "\n",
    "6. Given the 2D NumPy array `arr = np.array([[1, 2, 3], [4, 5, 6], [7, 8, 9]])`, use slicing to extract and print the subarray corresponding to the center 2x2 submatrix `[ [5, 6], [8, 9] ]`.\n",
    "\n",
    "7. Given the 1D NumPy array `arr = np.array([1, 2, 3, 4, 5])`, use array indexing and slicing to replace the elements at indices 2 and 4 with new values 10 and 20, respectively.\n",
    "\n",
    "Remember to import NumPy (`import numpy as np`) before attempting the exercise. This exercise will help you practice indexing and slicing arrays in NumPy, which are fundamental operations for data manipulation and analysis."
   ]
  },
  {
   "cell_type": "code",
   "execution_count": 14,
   "id": "4e22a411",
   "metadata": {},
   "outputs": [
    {
     "name": "stdout",
     "output_type": "stream",
     "text": [
      "30\n"
     ]
    }
   ],
   "source": [
    "# Given the NumPy array arr = np.array([10, 20, 30, 40, 50]), extract and print the element at index 2.\n",
    "arr = np.array([10, 20, 30, 40, 50])\n",
    "print(arr[2])"
   ]
  },
  {
   "cell_type": "code",
   "execution_count": 15,
   "id": "3515c493",
   "metadata": {},
   "outputs": [
    {
     "data": {
      "text/plain": [
       "array([3, 4, 5, 6, 7])"
      ]
     },
     "execution_count": 15,
     "metadata": {},
     "output_type": "execute_result"
    }
   ],
   "source": [
    "# Given the NumPy array arr = np.array([1, 2, 3, 4, 5, 6, 7, 8, 9, 10]), use slicing to extract and print the subarray from index 2 to index 6 (inclusive).\n",
    "arr = np.array([1, 2, 3, 4, 5, 6, 7, 8, 9, 10])\n",
    "arr[2:7]"
   ]
  },
  {
   "cell_type": "code",
   "execution_count": 16,
   "id": "bc3e8f22",
   "metadata": {},
   "outputs": [
    {
     "data": {
      "text/plain": [
       "6"
      ]
     },
     "execution_count": 16,
     "metadata": {},
     "output_type": "execute_result"
    }
   ],
   "source": [
    "# Given the 2D NumPy array arr = np.array([[1, 2, 3], [4, 5, 6], [7, 8, 9]]), print the element at row index 1 and column index 2.\n",
    "arr = np.array([[1, 2, 3], [4, 5, 6], [7, 8, 9]])\n",
    "arr[1,2]"
   ]
  },
  {
   "cell_type": "code",
   "execution_count": 17,
   "id": "c815c107",
   "metadata": {},
   "outputs": [
    {
     "data": {
      "text/plain": [
       "array([[4, 5, 6],\n",
       "       [7, 8, 9]])"
      ]
     },
     "execution_count": 17,
     "metadata": {},
     "output_type": "execute_result"
    }
   ],
   "source": [
    "# Given the 2D NumPy array arr = np.array([[1, 2, 3], [4, 5, 6], [7, 8, 9]]), use slicing to extract and print the subarray corresponding to the last two rows.\n",
    "arr = np.array([[1, 2, 3], [4, 5, 6], [7, 8, 9]])\n",
    "arr[-2:]"
   ]
  },
  {
   "cell_type": "code",
   "execution_count": 18,
   "id": "bb471f4c",
   "metadata": {},
   "outputs": [
    {
     "data": {
      "text/plain": [
       "array([[1, 2],\n",
       "       [4, 5],\n",
       "       [7, 8]])"
      ]
     },
     "execution_count": 18,
     "metadata": {},
     "output_type": "execute_result"
    }
   ],
   "source": [
    "# Given the 2D NumPy array arr = np.array([[1, 2, 3], [4, 5, 6], [7, 8, 9]]), use slicing to extract and print the subarray corresponding to the first two columns.\n",
    "arr = np.array([[1, 2, 3], [4, 5, 6], [7, 8, 9]])\n",
    "arr[:,:2]"
   ]
  },
  {
   "cell_type": "code",
   "execution_count": 19,
   "id": "10e3f249",
   "metadata": {},
   "outputs": [
    {
     "data": {
      "text/plain": [
       "array([[5, 6],\n",
       "       [8, 9]])"
      ]
     },
     "execution_count": 19,
     "metadata": {},
     "output_type": "execute_result"
    }
   ],
   "source": [
    "# Given the 2D NumPy array arr = np.array([[1, 2, 3], [4, 5, 6], [7, 8, 9]]), use slicing to extract and print the subarray corresponding to the center 2x2 submatrix [ [5, 6], [8, 9] ].\n",
    "arr = np.array([[1, 2, 3], [4, 5, 6], [7, 8, 9]])\n",
    "arr[1:,1:]"
   ]
  },
  {
   "cell_type": "code",
   "execution_count": 20,
   "id": "0c5f01a3",
   "metadata": {},
   "outputs": [
    {
     "data": {
      "text/plain": [
       "array([ 1, 10,  3, 20,  5])"
      ]
     },
     "execution_count": 20,
     "metadata": {},
     "output_type": "execute_result"
    }
   ],
   "source": [
    "# Given the 1D NumPy array arr = np.array([1, 2, 3, 4, 5]), use array indexing and slicing to replace the elements at indices 2 and 4 with new values 10 and 20, respectively.\n",
    "arr = np.array([1, 2, 3, 4, 5])\n",
    "arr[1],arr[3]=10,20\n",
    "arr"
   ]
  },
  {
   "cell_type": "markdown",
   "id": "6d7ed40d",
   "metadata": {},
   "source": [
    "## Exercise on Array operations"
   ]
  },
  {
   "cell_type": "markdown",
   "id": "f24c0836",
   "metadata": {},
   "source": [
    "Here's an exercise on Array Operations:\n",
    "\n",
    "1. Create two 1D NumPy arrays:\n",
    "   - `arr1 = np.array([1, 2, 3, 4, 5])`\n",
    "   - `arr2 = np.array([6, 7, 8, 9, 10])`\n",
    "\n",
    "2. Perform element-wise addition of `arr1` and `arr2` and store the result in a new array `sum_array`.\n",
    "\n",
    "3. Perform element-wise subtraction of `arr2` from `arr1` and store the result in a new array `diff_array`.\n",
    "\n",
    "4. Calculate the dot product of `arr1` and `arr2` and store the result in a variable `dot_product`.\n",
    "\n",
    "5. Create a 2D NumPy array:\n",
    "   ```\n",
    "   arr_2d = np.array([[1, 2, 3], [4, 5, 6], [7, 8, 9]])\n",
    "   ```\n",
    "\n",
    "6. Calculate the sum of all elements in `arr_2d` and store it in a variable `total_sum`.\n",
    "\n",
    "7. Calculate the sum of elements along each column of `arr_2d` and store the result in an array `col_sum`.\n",
    "\n",
    "8. Calculate the product of elements along each row of `arr_2d` and store the result in an array `row_product`.\n",
    "\n",
    "9. Reshape `arr1` to a 2D array of shape (1, 5) and store it in a new variable `arr1_2d`.\n",
    "\n",
    "10. Transpose `arr_2d` and store it in a new variable `arr_2d_transposed`.\n",
    "\n",
    "11. Calculate the mean value of `arr1` and store it in a variable `mean_value`.\n",
    "\n",
    "12. Find the minimum and maximum values in `arr2` and store them in variables `min_value` and `max_value`, respectively.\n",
    "\n",
    "13. Find the indices of all elements greater than 5 in `arr1` and store them in an array `indices_greater_than_5`.\n",
    "\n",
    "14. Sort `arr2` in ascending order and store the sorted array in a new variable `sorted_arr2`.\n",
    "\n",
    "15. Create a boolean mask for elements in `arr1` that are divisible by 2 and store it in a variable `mask_divisible_by_2`.\n",
    "\n",
    "16. Use the boolean mask to extract the elements from `arr1` that are divisible by 2 and store them in a new array `elements_divisible_by_2`.\n",
    "\n",
    "This exercise covers various array operations in NumPy, including element-wise operations, dot product, sum, product, reshape, transpose, mean, minimum, maximum, sorting, and boolean masking. It will help you practice different array operations and improve your familiarity with NumPy functions."
   ]
  },
  {
   "cell_type": "code",
   "execution_count": 21,
   "id": "8f435b89",
   "metadata": {},
   "outputs": [],
   "source": [
    "arr1 = np.array([1, 2, 3, 4, 5])\n",
    "arr2 = np.array([6, 7, 8, 9, 10])"
   ]
  },
  {
   "cell_type": "code",
   "execution_count": 22,
   "id": "2d5b94b3",
   "metadata": {},
   "outputs": [],
   "source": [
    "# Perform element-wise addition of arr1 and arr2 and store the result in a new array sum_array.\n",
    "sum_array = arr1+arr2"
   ]
  },
  {
   "cell_type": "code",
   "execution_count": 23,
   "id": "8e8c31a7",
   "metadata": {},
   "outputs": [],
   "source": [
    "# Perform element-wise subtraction of arr2 from arr1 and store the result in a new array diff_array.\n",
    "diff_array = arr1-arr2"
   ]
  },
  {
   "cell_type": "code",
   "execution_count": 24,
   "id": "afd76a7e",
   "metadata": {},
   "outputs": [],
   "source": [
    "# Calculate the dot product of arr1 and arr2 and store the result in a variable dot_product.\n",
    "dot_product = np.dot(arr1,arr2)"
   ]
  },
  {
   "cell_type": "code",
   "execution_count": 25,
   "id": "90b428a0",
   "metadata": {},
   "outputs": [],
   "source": [
    "arr_2d = np.array([[1, 2, 3], [4, 5, 6], [7, 8, 9]])"
   ]
  },
  {
   "cell_type": "code",
   "execution_count": 26,
   "id": "d5886600",
   "metadata": {},
   "outputs": [
    {
     "data": {
      "text/plain": [
       "45"
      ]
     },
     "execution_count": 26,
     "metadata": {},
     "output_type": "execute_result"
    }
   ],
   "source": [
    "# Calculate the sum of all elements in arr_2d and store it in a variable total_sum.\n",
    "total_sum = np.sum(arr_2d)\n",
    "total_sum"
   ]
  },
  {
   "cell_type": "code",
   "execution_count": 27,
   "id": "11bde69d",
   "metadata": {},
   "outputs": [
    {
     "data": {
      "text/plain": [
       "array([12, 15, 18])"
      ]
     },
     "execution_count": 27,
     "metadata": {},
     "output_type": "execute_result"
    }
   ],
   "source": [
    "# Calculate the sum of elements along each column of arr_2d and store the result in an array col_sum.\n",
    "col_sum = np.sum(arr_2d,axis = 0)\n",
    "col_sum"
   ]
  },
  {
   "cell_type": "code",
   "execution_count": 28,
   "id": "d6b48e42",
   "metadata": {},
   "outputs": [
    {
     "data": {
      "text/plain": [
       "array([  6, 120, 504])"
      ]
     },
     "execution_count": 28,
     "metadata": {},
     "output_type": "execute_result"
    }
   ],
   "source": [
    "# Calculate the product of elements along each row of arr_2d and store the result in an array row_product.\n",
    "row_product = np.prod(arr_2d,axis =1)\n",
    "row_product"
   ]
  },
  {
   "cell_type": "code",
   "execution_count": 29,
   "id": "13087c2e",
   "metadata": {},
   "outputs": [
    {
     "data": {
      "text/plain": [
       "array([[1, 2, 3, 4, 5]])"
      ]
     },
     "execution_count": 29,
     "metadata": {},
     "output_type": "execute_result"
    }
   ],
   "source": [
    "# Reshape arr1 to a 2D array of shape (1, 5) and store it in a new variable arr1_2d.\n",
    "\n",
    "arr1_2d = arr1.reshape((1,5))\n",
    "arr1_2d"
   ]
  },
  {
   "cell_type": "code",
   "execution_count": 30,
   "id": "a2c803ad",
   "metadata": {},
   "outputs": [
    {
     "data": {
      "text/plain": [
       "array([[1, 4, 7],\n",
       "       [2, 5, 8],\n",
       "       [3, 6, 9]])"
      ]
     },
     "execution_count": 30,
     "metadata": {},
     "output_type": "execute_result"
    }
   ],
   "source": [
    "# Transpose arr_2d and store it in a new variable arr_2d_transposed.\n",
    "arr_2d_transposed = np.transpose(arr_2d)\n",
    "arr_2d_transposed"
   ]
  },
  {
   "cell_type": "code",
   "execution_count": 31,
   "id": "48a142fb",
   "metadata": {},
   "outputs": [
    {
     "data": {
      "text/plain": [
       "3.0"
      ]
     },
     "execution_count": 31,
     "metadata": {},
     "output_type": "execute_result"
    }
   ],
   "source": [
    "# Calculate the mean value of arr1 and store it in a variable mean_value.\n",
    "mean_value = arr1.mean()\n",
    "mean_value"
   ]
  },
  {
   "cell_type": "code",
   "execution_count": 32,
   "id": "97f08c43",
   "metadata": {},
   "outputs": [
    {
     "name": "stdout",
     "output_type": "stream",
     "text": [
      "6 10\n"
     ]
    }
   ],
   "source": [
    "# Find the minimum and maximum values in arr2 and store them in variables min_value and max_value, respectively.\n",
    "min_value,max_value = arr2.min(),arr2.max()\n",
    "print(min_value,max_value)"
   ]
  },
  {
   "cell_type": "code",
   "execution_count": 33,
   "id": "a5deb1b9",
   "metadata": {},
   "outputs": [
    {
     "data": {
      "text/plain": [
       "array([], dtype=int64)"
      ]
     },
     "execution_count": 33,
     "metadata": {},
     "output_type": "execute_result"
    }
   ],
   "source": [
    "# Find the indices of all elements greater than 5 in arr1 and store them in an array indices_greater_than_5.\n",
    "indices_greater_than_5 = np.where(arr1>5)[0]\n",
    "indices_greater_than_5"
   ]
  },
  {
   "cell_type": "code",
   "execution_count": 34,
   "id": "cfc93c7c",
   "metadata": {},
   "outputs": [
    {
     "data": {
      "text/plain": [
       "array([ 6,  7,  8,  9, 10])"
      ]
     },
     "execution_count": 34,
     "metadata": {},
     "output_type": "execute_result"
    }
   ],
   "source": [
    "# Sort arr2 in ascending order and store the sorted array in a new variable sorted_arr2.\n",
    "sorted_arr2 = np.sort(arr2)\n",
    "sorted_arr2"
   ]
  },
  {
   "cell_type": "code",
   "execution_count": 35,
   "id": "06160f0a",
   "metadata": {},
   "outputs": [
    {
     "data": {
      "text/plain": [
       "array([False,  True, False,  True, False])"
      ]
     },
     "execution_count": 35,
     "metadata": {},
     "output_type": "execute_result"
    }
   ],
   "source": [
    "# Create a boolean mask for elements in arr1 that are divisible by 2 and store it in a variable mask_divisible_by_2.\n",
    "mask_divisible_by_2 = arr1%2==0\n",
    "mask_divisible_by_2"
   ]
  },
  {
   "cell_type": "code",
   "execution_count": 36,
   "id": "84485cf8",
   "metadata": {},
   "outputs": [
    {
     "data": {
      "text/plain": [
       "array([2, 4])"
      ]
     },
     "execution_count": 36,
     "metadata": {},
     "output_type": "execute_result"
    }
   ],
   "source": [
    "# Use the boolean mask to extract the elements from arr1 that are divisible by 2 and store them in a new array elements_divisible_by_2.\n",
    "\n",
    "elements_divisible_by_2 = arr1[mask_divisible_by_2]\n",
    "elements_divisible_by_2"
   ]
  },
  {
   "cell_type": "markdown",
   "id": "b94e2195",
   "metadata": {},
   "source": [
    "## Exercise on Array Shape Manipulation"
   ]
  },
  {
   "cell_type": "markdown",
   "id": "f9346f28",
   "metadata": {},
   "source": [
    "Consider the following NumPy array representing a 3x4 matrix:\n",
    "\n",
    "Original 3x4 matrix\n",
    "\n",
    "\n",
    "original_array = np.array([[1, 2, 3, 4],\n",
    "                           [5, 6, 7, 8],\n",
    "                           [9, 10, 11, 12]])\n",
    "                           \n",
    "                    \n",
    "Perform the following operations on the original_array and answer the questions accordingly:\n",
    "\n",
    "Reshape the original_array into a 2x6 matrix.\n",
    "\n",
    "Resize the original_array to a 2x2 matrix.\n",
    "\n",
    "Transpose the original_array.\n",
    "\n",
    "Swap the axes of the original_array.\n",
    "\n",
    "Flatten the original_array into a 1D array.\n",
    "\n",
    "Ravel the original_array into a 1D array.\n",
    "\n",
    "Squeeze the original_array to remove any single-dimensional entries."
   ]
  },
  {
   "cell_type": "code",
   "execution_count": 37,
   "id": "02995744",
   "metadata": {},
   "outputs": [],
   "source": [
    "original_array = np.array([[1, 2, 3, 4], [5, 6, 7, 8], [9, 10, 11, 12]])"
   ]
  },
  {
   "cell_type": "code",
   "execution_count": 38,
   "id": "8d0af148",
   "metadata": {},
   "outputs": [
    {
     "data": {
      "text/plain": [
       "array([[ 1,  2,  3,  4,  5,  6],\n",
       "       [ 7,  8,  9, 10, 11, 12]])"
      ]
     },
     "execution_count": 38,
     "metadata": {},
     "output_type": "execute_result"
    }
   ],
   "source": [
    "# Reshape the original_array into a 2x6 matrix.\n",
    "np.reshape(original_array,(2,6))"
   ]
  },
  {
   "cell_type": "code",
   "execution_count": 39,
   "id": "1ea51e13",
   "metadata": {},
   "outputs": [
    {
     "data": {
      "text/plain": [
       "array([[1, 2],\n",
       "       [3, 4]])"
      ]
     },
     "execution_count": 39,
     "metadata": {},
     "output_type": "execute_result"
    }
   ],
   "source": [
    "# Resize the original_array to a 2x2 matrix.\n",
    "np.resize(original_array,(2,2))"
   ]
  },
  {
   "cell_type": "code",
   "execution_count": 40,
   "id": "d22d5fb6",
   "metadata": {},
   "outputs": [
    {
     "data": {
      "text/plain": [
       "array([[ 1,  5,  9],\n",
       "       [ 2,  6, 10],\n",
       "       [ 3,  7, 11],\n",
       "       [ 4,  8, 12]])"
      ]
     },
     "execution_count": 40,
     "metadata": {},
     "output_type": "execute_result"
    }
   ],
   "source": [
    "# Transpose the original_array.\n",
    "np.transpose(original_array)"
   ]
  },
  {
   "cell_type": "code",
   "execution_count": 51,
   "id": "b490cc95",
   "metadata": {},
   "outputs": [
    {
     "data": {
      "text/plain": [
       "array([[ 1,  5,  9],\n",
       "       [ 2,  6, 10],\n",
       "       [ 3,  7, 11],\n",
       "       [ 4,  8, 12]])"
      ]
     },
     "execution_count": 51,
     "metadata": {},
     "output_type": "execute_result"
    }
   ],
   "source": [
    "# Swap the axes of the original_array\n",
    "np.swapaxes(original_array,0,1)"
   ]
  },
  {
   "cell_type": "code",
   "execution_count": 58,
   "id": "81f1794a",
   "metadata": {},
   "outputs": [
    {
     "data": {
      "text/plain": [
       "array([ 1,  2,  3,  4,  5,  6,  7,  8,  9, 10, 11, 12])"
      ]
     },
     "execution_count": 58,
     "metadata": {},
     "output_type": "execute_result"
    }
   ],
   "source": [
    "# Flatten the original_array into a 1D array.\n",
    "original_array.flatten()\n",
    "\n",
    "\n"
   ]
  },
  {
   "cell_type": "code",
   "execution_count": 57,
   "id": "4d027273",
   "metadata": {},
   "outputs": [
    {
     "data": {
      "text/plain": [
       "array([ 1,  2,  3,  4,  5,  6,  7,  8,  9, 10, 11, 12])"
      ]
     },
     "execution_count": 57,
     "metadata": {},
     "output_type": "execute_result"
    }
   ],
   "source": [
    "# Ravel the original_array into a 1D array.\n",
    "np.ravel(original_array)"
   ]
  },
  {
   "cell_type": "code",
   "execution_count": 60,
   "id": "f4248956",
   "metadata": {},
   "outputs": [
    {
     "data": {
      "text/plain": [
       "array([[ 1,  2,  3,  4],\n",
       "       [ 5,  6,  7,  8],\n",
       "       [ 9, 10, 11, 12]])"
      ]
     },
     "execution_count": 60,
     "metadata": {},
     "output_type": "execute_result"
    }
   ],
   "source": [
    "# Squeeze the original_array to remove any single-dimensional entries.\n",
    "np.squeeze(original_array)"
   ]
  },
  {
   "cell_type": "markdown",
   "id": "63617f16",
   "metadata": {},
   "source": [
    "# Numpy.nditer"
   ]
  },
  {
   "cell_type": "markdown",
   "id": "31485f13",
   "metadata": {},
   "source": [
    "`numpy.nditer` is a powerful function in NumPy that provides an iterator object to efficiently loop over arrays. It's particularly useful when you want to perform element-wise operations on arrays. Here's an example using `numpy.nditer`:\n",
    "\n",
    "Example:\n",
    "\n",
    "```python\n",
    "import numpy as np\n",
    "\n",
    "# Create a 3x3 array\n",
    "arr = np.array([[1, 2, 3],\n",
    "                [4, 5, 6],\n",
    "                [7, 8, 9]])\n",
    "\n",
    "# Using nditer to loop through the array\n",
    "print(\"Original array:\")\n",
    "print(arr)\n",
    "\n",
    "print(\"\\nSquared array:\")\n",
    "# Create a new empty array to store squared values\n",
    "squared_arr = np.empty_like(arr)\n",
    "\n",
    "# Loop through the array and calculate the square of each element\n",
    "with np.nditer([arr, squared_arr], op_flags=['readwrite']) as it:\n",
    "    for x, y in it:\n",
    "        y[...] = x ** 2\n",
    "\n",
    "print(squared_arr)\n",
    "```\n",
    "\n",
    "Output:\n",
    "\n",
    "```\n",
    "Original array:\n",
    "[[1 2 3]\n",
    " [4 5 6]\n",
    " [7 8 9]]\n",
    "\n",
    "Squared array:\n",
    "[[ 1  4  9]\n",
    " [16 25 36]\n",
    " [49 64 81]]\n",
    "```\n",
    "\n",
    "Exercise question:\n",
    "\n",
    "Write a function that takes two input arrays, `arr1` and `arr2`, and returns a new array that contains the element-wise multiplication of the two arrays. Use `numpy.nditer` to implement the function efficiently.\n",
    "\n",
    "Example function signature:\n",
    "```python\n",
    "def element_wise_multiply(arr1, arr2):\n",
    "    # Your implementation using numpy.nditer\n",
    "    pass\n",
    "```\n",
    "\n",
    "For instance, if you pass `arr1 = np.array([1, 2, 3])` and `arr2 = np.array([4, 5, 6])`, the function should return `np.array([4, 10, 18])`, which is the result of element-wise multiplication of the two arrays."
   ]
  },
  {
   "cell_type": "code",
   "execution_count": 8,
   "id": "8406d1c5",
   "metadata": {},
   "outputs": [
    {
     "name": "stdout",
     "output_type": "stream",
     "text": [
      "[ 4 10 18]\n"
     ]
    }
   ],
   "source": [
    "import numpy as np\n",
    "def fun(arr1,arr2):\n",
    "    res = np.array([], dtype = int)\n",
    "    with np.nditer([arr1,arr2],op_flags=['readwrite']) as it:\n",
    "        for x,y in it:\n",
    "            res= np.append(res,x*y)\n",
    "    return res\n",
    "arr1 = np.array([1, 2, 3])\n",
    "arr2 = np.array([4, 5, 6])\n",
    "print(\n",
    "    fun(arr1,arr2))\n"
   ]
  },
  {
   "cell_type": "code",
   "execution_count": null,
   "id": "9ed9702c",
   "metadata": {},
   "outputs": [],
   "source": []
  }
 ],
 "metadata": {
  "kernelspec": {
   "display_name": "Python 3 (ipykernel)",
   "language": "python",
   "name": "python3"
  },
  "language_info": {
   "codemirror_mode": {
    "name": "ipython",
    "version": 3
   },
   "file_extension": ".py",
   "mimetype": "text/x-python",
   "name": "python",
   "nbconvert_exporter": "python",
   "pygments_lexer": "ipython3",
   "version": "3.9.13"
  }
 },
 "nbformat": 4,
 "nbformat_minor": 5
}
